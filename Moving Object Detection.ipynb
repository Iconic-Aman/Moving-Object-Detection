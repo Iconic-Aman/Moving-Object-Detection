{
 "cells": [
  {
   "cell_type": "markdown",
   "metadata": {},
   "source": [
    "<style>\n",
    ".center{\n",
    "    text-align:center;\n",
    "    color: White;\n",
    "    font-size: 30px;\n",
    "}\n",
    "</style>\n",
    "\n",
    "<div class='center'>\n",
    "<p>Moving Object Detection</p>\n",
    "</div>"
   ]
  },
  {
   "cell_type": "code",
   "execution_count": 1,
   "metadata": {},
   "outputs": [
    {
     "name": "stdout",
     "output_type": "stream",
     "text": [
      "Normal\n"
     ]
    }
   ],
   "source": [
    "import time #delay\n",
    "import cv2 as cv #import opencv\n",
    "import imutils #resize\n",
    "\n",
    "cam = cv.VideoCapture(1) #1- means this is my pc camera\n",
    "time.sleep(1)\n",
    "\n",
    "firstFrame = None\n",
    "AREA = 500\n",
    "\n",
    "while True:\n",
    "    _, img = cam.read() #read frame from camera\n",
    "    Text = \"Normal\"\n",
    "\n",
    "    # Now, do some preprocessing on each frame\n",
    "    img = imutils.resize(img, 300,300)  #resize\n",
    "    grayImg = cv.cvtColor(img, cv.COLOR_BGR2GRAY) #color to grayscalse\n",
    "    gaussianImg = cv.GaussianBlur(grayImg, (23 ,23), 0) #smoothend\n",
    "\n",
    "    if firstFrame is None:\n",
    "        firstFrame = gaussianImg #capturing first frame in 1st iteration\n",
    "        continue\n",
    "    \n",
    "    #find the difference between first frame and current frame so that we can detect changes\n",
    "    imgDiff = cv.absdiff(firstFrame, gaussianImg)\n",
    "    _, threshImg = cv.threshold(imgDiff, 25, 255, cv.THRESH_BINARY) #Binary\n",
    "    threshImg = cv.dilate(threshImg,None, iterations=2) #This is used to find dot circle on image\n",
    "\n",
    "    cnts = cv.findContours(threshImg.copy(), cv.RETR_EXTERNAL, cv.CHAIN_APPROX_SIMPLE) # use to detect object using rectangle\n",
    "    cnts = imutils.grab_contours(cnts)  #to grab the contours\n",
    "\n",
    "    for c in cnts:\n",
    "        if cv.contourArea(c) < AREA:\n",
    "            continue\n",
    "        Text = \"Moving object detected\"\n",
    "        (x,y, w,h )= cv.boundingRect(c)\n",
    "        cv.rectangle(img, (x,y), (x+w, y+h), color=(0, 255,0), thickness=5) \n",
    "    print(Text)\n",
    "    \n",
    "    #put the text\n",
    "    cv.putText(img, Text,(10,20),cv.FONT_HERSHEY_COMPLEX,0.5,(255,0,0), thickness=4)\n",
    "\n",
    "    #show the video\n",
    "    cv.imshow('CamRecorder', img)\n",
    "    key = cv.waitKey(0)\n",
    "    if key == ord('b'):\n",
    "        break\n",
    "\n",
    "    cam.release() # release the camera\n",
    "    cv.destroyAllWindows()\n"
   ]
  }
 ],
 "metadata": {
  "kernelspec": {
   "display_name": "Python 3",
   "language": "python",
   "name": "python3"
  },
  "language_info": {
   "codemirror_mode": {
    "name": "ipython",
    "version": 3
   },
   "file_extension": ".py",
   "mimetype": "text/x-python",
   "name": "python",
   "nbconvert_exporter": "python",
   "pygments_lexer": "ipython3",
   "version": "3.11.4"
  },
  "orig_nbformat": 4
 },
 "nbformat": 4,
 "nbformat_minor": 2
}
